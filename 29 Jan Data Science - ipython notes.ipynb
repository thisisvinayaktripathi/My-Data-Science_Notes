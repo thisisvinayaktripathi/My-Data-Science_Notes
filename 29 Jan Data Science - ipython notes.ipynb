{
 "cells": [
  {
   "cell_type": "markdown",
   "id": "afb3561e",
   "metadata": {},
   "source": [
    "###### ipnyb = interactive python notebook"
   ]
  },
  {
   "cell_type": "markdown",
   "id": "c5001e3a",
   "metadata": {},
   "source": [
    "---"
   ]
  },
  {
   "cell_type": "markdown",
   "id": "99bd3654",
   "metadata": {},
   "source": [
    "# h1\n",
    "## h2\n",
    "### h3\n",
    "#### h4\n",
    "##### h5\n",
    "###### h6\n",
    "####### h7"
   ]
  },
  {
   "cell_type": "markdown",
   "id": "17da0bc9",
   "metadata": {},
   "source": [
    "---"
   ]
  },
  {
   "cell_type": "markdown",
   "id": "251062af",
   "metadata": {},
   "source": [
    "###### Print opens up a console to display what ever is passed to it, whereas just variable calling in jupyter outputs whatever the variable/function returns"
   ]
  },
  {
   "cell_type": "code",
   "execution_count": 1,
   "id": "6bd72cf0",
   "metadata": {},
   "outputs": [
    {
     "name": "stdout",
     "output_type": "stream",
     "text": [
      "1\n"
     ]
    },
    {
     "data": {
      "text/plain": [
       "1"
      ]
     },
     "execution_count": 1,
     "metadata": {},
     "output_type": "execute_result"
    }
   ],
   "source": [
    "print(1)\n",
    "1"
   ]
  },
  {
   "cell_type": "markdown",
   "id": "de54e6e2",
   "metadata": {},
   "source": [
    "---"
   ]
  },
  {
   "cell_type": "markdown",
   "id": "bab86f8d",
   "metadata": {},
   "source": [
    "###### Single line comment : \"#\"\n",
    "###### Multiline comments : \"\"\""
   ]
  },
  {
   "cell_type": "markdown",
   "id": "7958ca76",
   "metadata": {},
   "source": [
    "---"
   ]
  },
  {
   "cell_type": "markdown",
   "id": "c3a9d086",
   "metadata": {},
   "source": [
    "###### Use shortcuts : Shift + Tab : see description of function\n",
    "###### Tab : auto-complete name of variable/function"
   ]
  },
  {
   "cell_type": "markdown",
   "id": "74c86d62",
   "metadata": {},
   "source": [
    "---"
   ]
  },
  {
   "cell_type": "markdown",
   "id": "e31c184c",
   "metadata": {},
   "source": [
    "###### help keyword in python"
   ]
  },
  {
   "cell_type": "code",
   "execution_count": null,
   "id": "515b3037",
   "metadata": {},
   "outputs": [
    {
     "name": "stdout",
     "output_type": "stream",
     "text": [
      "\n",
      "Welcome to Python 3.9's help utility!\n",
      "\n",
      "If this is your first time using Python, you should definitely check out\n",
      "the tutorial on the Internet at https://docs.python.org/3.9/tutorial/.\n",
      "\n",
      "Enter the name of any module, keyword, or topic to get help on writing\n",
      "Python programs and using Python modules.  To quit this help utility and\n",
      "return to the interpreter, just type \"quit\".\n",
      "\n",
      "To get a list of available modules, keywords, symbols, or topics, type\n",
      "\"modules\", \"keywords\", \"symbols\", or \"topics\".  Each module also comes\n",
      "with a one-line summary of what it does; to list the modules whose name\n",
      "or summary contain a given string such as \"spam\", type \"modules spam\".\n",
      "\n"
     ]
    }
   ],
   "source": [
    "help()"
   ]
  },
  {
   "cell_type": "markdown",
   "id": "c84b6877",
   "metadata": {},
   "source": [
    "###### Reserved keywords in Python."
   ]
  },
  {
   "cell_type": "code",
   "execution_count": 3,
   "id": "90466517",
   "metadata": {},
   "outputs": [
    {
     "name": "stdout",
     "output_type": "stream",
     "text": [
      "\n",
      "Here is a list of the Python keywords.  Enter any keyword to get more help.\n",
      "\n",
      "False               break               for                 not\n",
      "None                class               from                or\n",
      "True                continue            global              pass\n",
      "__peg_parser__      def                 if                  raise\n",
      "and                 del                 import              return\n",
      "as                  elif                in                  try\n",
      "assert              else                is                  while\n",
      "async               except              lambda              with\n",
      "await               finally             nonlocal            yield\n",
      "\n"
     ]
    }
   ],
   "source": [
    "help(\"keywords\")"
   ]
  },
  {
   "cell_type": "markdown",
   "id": "22c063ff",
   "metadata": {},
   "source": [
    "---"
   ]
  },
  {
   "cell_type": "markdown",
   "id": "4d0ece08",
   "metadata": {},
   "source": [
    "###### Type casting"
   ]
  },
  {
   "cell_type": "markdown",
   "id": "13a56d89",
   "metadata": {},
   "source": [
    "int()\n",
    "bool()\n",
    "str()\n",
    "float()"
   ]
  },
  {
   "cell_type": "markdown",
   "id": "79b977ee",
   "metadata": {},
   "source": [
    "+ Implicit Type Conversion\n",
    "\n",
    "In this,  methods, Python converts data type into another data type automatically. In this process, users don’t have to involve in this process. "
   ]
  },
  {
   "cell_type": "markdown",
   "id": "a94fb343",
   "metadata": {},
   "source": [
    "+ Explicit Type Conversion\n",
    "\n",
    "int(), float(), str(), ord(), hex(), oct(), tuple(), set(), list(), dict(), etc. "
   ]
  },
  {
   "cell_type": "code",
   "execution_count": 13,
   "id": "978c4da5",
   "metadata": {},
   "outputs": [],
   "source": [
    "#from IPython.display import Image, display\n",
    "#display(Image(\"apple.jpg\"))"
   ]
  },
  {
   "cell_type": "markdown",
   "id": "64ae2fd3",
   "metadata": {},
   "source": [
    "---"
   ]
  },
  {
   "cell_type": "markdown",
   "id": "ced51679",
   "metadata": {},
   "source": [
    "###### Python is dynamically typed language as it can infer the data type p"
   ]
  }
 ],
 "metadata": {
  "kernelspec": {
   "display_name": "Python 3 (ipykernel)",
   "language": "python",
   "name": "python3"
  },
  "language_info": {
   "codemirror_mode": {
    "name": "ipython",
    "version": 3
   },
   "file_extension": ".py",
   "mimetype": "text/x-python",
   "name": "python",
   "nbconvert_exporter": "python",
   "pygments_lexer": "ipython3",
   "version": "3.9.13"
  }
 },
 "nbformat": 4,
 "nbformat_minor": 5
}
