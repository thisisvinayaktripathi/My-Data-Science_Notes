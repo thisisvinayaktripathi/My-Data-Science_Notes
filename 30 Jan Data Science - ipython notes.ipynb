{
 "cells": [
  {
   "cell_type": "markdown",
   "id": "ab5be1c3",
   "metadata": {},
   "source": [
    "##### In python we do not have seperate ‘char’ and ‘string’ data types. We just have one data type which is : string"
   ]
  },
  {
   "cell_type": "code",
   "execution_count": 14,
   "id": "112a9555",
   "metadata": {},
   "outputs": [
    {
     "data": {
      "text/plain": [
       "str"
      ]
     },
     "execution_count": 14,
     "metadata": {},
     "output_type": "execute_result"
    }
   ],
   "source": [
    "type(\"a\")"
   ]
  },
  {
   "cell_type": "markdown",
   "id": "1040492d",
   "metadata": {},
   "source": [
    "---"
   ]
  },
  {
   "cell_type": "markdown",
   "id": "8b1f514d",
   "metadata": {},
   "source": [
    "##### 3 Ways to print a variable with a string using a print statement"
   ]
  },
  {
   "cell_type": "code",
   "execution_count": 25,
   "id": "cdc185ec",
   "metadata": {},
   "outputs": [
    {
     "name": "stdout",
     "output_type": "stream",
     "text": [
      "My name is: Vinayak and my age is: 23\n",
      "My name is: Vinayak and my age is: 23\n",
      "My name is: Vinayak and my age is: 23\n"
     ]
    }
   ],
   "source": [
    "age = '23'\n",
    "name = 'Vinayak'\n",
    "\n",
    "# Way 1\n",
    "print('My name is:',name, 'and my age is:', age)\n",
    "\n",
    "# Way 2\n",
    "print(f'My name is: {name} and my age is: {age}')\n",
    "\n",
    "# Way 3\n",
    "print('My name is: {} and my age is: {}'.format(name, age))"
   ]
  },
  {
   "cell_type": "markdown",
   "id": "34e72ce3",
   "metadata": {},
   "source": [
    "* bullet list\n",
    "\n",
    "**Bold Text**\n",
    "\n",
    "1. num list\n",
    "2. num l\n",
    "3. num l"
   ]
  },
  {
   "cell_type": "code",
   "execution_count": 34,
   "id": "365842d4",
   "metadata": {},
   "outputs": [
    {
     "name": "stdout",
     "output_type": "stream",
     "text": [
      "Haha haha\n"
     ]
    }
   ],
   "source": [
    "'This is my /n text'\n",
    "print('I am vinnu\\rHaha haha')"
   ]
  },
  {
   "cell_type": "code",
   "execution_count": null,
   "id": "867fad6a",
   "metadata": {},
   "outputs": [],
   "source": []
  },
  {
   "cell_type": "code",
   "execution_count": 44,
   "id": "64066086",
   "metadata": {},
   "outputs": [
    {
     "name": "stdout",
     "output_type": "stream",
     "text": [
      "*\n",
      "**\n",
      "***\n",
      "****\n"
     ]
    }
   ],
   "source": [
    "for i in range(1,5):\n",
    "    print('*'*i, end='')\n",
    "    print()"
   ]
  },
  {
   "cell_type": "code",
   "execution_count": null,
   "id": "a5e0558c",
   "metadata": {},
   "outputs": [],
   "source": []
  },
  {
   "cell_type": "code",
   "execution_count": 45,
   "id": "5da12b85",
   "metadata": {},
   "outputs": [
    {
     "name": "stdout",
     "output_type": "stream",
     "text": [
      "*\n",
      "**\n",
      "***\n",
      "****\n"
     ]
    }
   ],
   "source": [
    "for i in range(1,5):\n",
    "    print('*'*i, end='')\n",
    "    print('')"
   ]
  },
  {
   "cell_type": "code",
   "execution_count": null,
   "id": "79e25304",
   "metadata": {},
   "outputs": [],
   "source": []
  },
  {
   "cell_type": "code",
   "execution_count": 46,
   "id": "f11572b5",
   "metadata": {},
   "outputs": [
    {
     "name": "stdout",
     "output_type": "stream",
     "text": [
      "*\r\n",
      "**\r\n",
      "***\r\n",
      "****\r\n"
     ]
    }
   ],
   "source": [
    "for i in range(1,5):\n",
    "    print('*'*i, end='')\n",
    "    print('\\r')"
   ]
  },
  {
   "cell_type": "code",
   "execution_count": null,
   "id": "c6c0daf8",
   "metadata": {},
   "outputs": [],
   "source": []
  },
  {
   "cell_type": "code",
   "execution_count": 43,
   "id": "10d5f32c",
   "metadata": {},
   "outputs": [
    {
     "name": "stdout",
     "output_type": "stream",
     "text": [
      "a\n",
      "a\n",
      "a\n",
      "a\n"
     ]
    }
   ],
   "source": [
    "for i in range(1,5):\n",
    "    print('*'*i, end='')\n",
    "    print('\\ra')"
   ]
  },
  {
   "cell_type": "code",
   "execution_count": null,
   "id": "4bec1f5d",
   "metadata": {},
   "outputs": [],
   "source": []
  },
  {
   "cell_type": "markdown",
   "id": "dda82783",
   "metadata": {},
   "source": [
    "### Assignment :"
   ]
  },
  {
   "cell_type": "markdown",
   "id": "c02f7677",
   "metadata": {},
   "source": [
    "##### 1.  Print centered star pattern :"
   ]
  },
  {
   "cell_type": "code",
   "execution_count": 57,
   "id": "a1a9aba9",
   "metadata": {},
   "outputs": [
    {
     "name": "stdout",
     "output_type": "stream",
     "text": [
      "Enter the no. of levels that you want in star pattern 5\n",
      "     *\n",
      "    * *\n",
      "   * * *\n",
      "  * * * *\n",
      " * * * * *\n"
     ]
    }
   ],
   "source": [
    "level = int(input('Enter the no. of levels that you want in star pattern '))\n",
    "for i in range(level):\n",
    "    print(' '*(level-1-i), '*', end='')\n",
    "    print(' *'*i)"
   ]
  },
  {
   "cell_type": "code",
   "execution_count": null,
   "id": "687f496c",
   "metadata": {},
   "outputs": [],
   "source": []
  }
 ],
 "metadata": {
  "kernelspec": {
   "display_name": "Python 3 (ipykernel)",
   "language": "python",
   "name": "python3"
  },
  "language_info": {
   "codemirror_mode": {
    "name": "ipython",
    "version": 3
   },
   "file_extension": ".py",
   "mimetype": "text/x-python",
   "name": "python",
   "nbconvert_exporter": "python",
   "pygments_lexer": "ipython3",
   "version": "3.9.13"
  }
 },
 "nbformat": 4,
 "nbformat_minor": 5
}
