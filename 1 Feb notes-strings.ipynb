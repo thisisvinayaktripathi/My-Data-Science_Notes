{
 "cells": [
  {
   "cell_type": "markdown",
   "id": "c5782041",
   "metadata": {},
   "source": [
    "#### How to convert reversed object into string"
   ]
  },
  {
   "cell_type": "code",
   "execution_count": 132,
   "id": "74ad4093",
   "metadata": {},
   "outputs": [],
   "source": [
    "s = 'Vinayak'\n",
    "a = reversed(s)"
   ]
  },
  {
   "cell_type": "code",
   "execution_count": 138,
   "id": "93a045b7",
   "metadata": {},
   "outputs": [
    {
     "data": {
      "text/plain": [
       "['k', 'a', 'y', 'a', 'n', 'i', 'V']"
      ]
     },
     "execution_count": 138,
     "metadata": {},
     "output_type": "execute_result"
    }
   ],
   "source": [
    "a = list(a)\n",
    "a"
   ]
  },
  {
   "cell_type": "code",
   "execution_count": 139,
   "id": "7d1b977a",
   "metadata": {},
   "outputs": [
    {
     "data": {
      "text/plain": [
       "'kayaniV'"
      ]
     },
     "execution_count": 139,
     "metadata": {},
     "output_type": "execute_result"
    }
   ],
   "source": [
    "''.join(a)"
   ]
  },
  {
   "cell_type": "code",
   "execution_count": 140,
   "id": "51739611",
   "metadata": {},
   "outputs": [
    {
     "data": {
      "text/plain": [
       "\"['k', 'a', 'y', 'a', 'n', 'i', 'V']\""
      ]
     },
     "execution_count": 140,
     "metadata": {},
     "output_type": "execute_result"
    }
   ],
   "source": [
    "''.join(str(a))"
   ]
  },
  {
   "cell_type": "code",
   "execution_count": 141,
   "id": "633f99be",
   "metadata": {},
   "outputs": [
    {
     "data": {
      "text/plain": [
       "True"
      ]
     },
     "execution_count": 141,
     "metadata": {},
     "output_type": "execute_result"
    }
   ],
   "source": [
    "1.9999999999999999999999 == 2"
   ]
  },
  {
   "cell_type": "code",
   "execution_count": 164,
   "id": "49fef23f",
   "metadata": {},
   "outputs": [
    {
     "data": {
      "text/plain": [
       "[120, 122]"
      ]
     },
     "execution_count": 164,
     "metadata": {},
     "output_type": "execute_result"
    }
   ],
   "source": [
    "l = [1,2,3,4,5,6,7,8,9,5,4,3,32,56,8,89]\n",
    "\n",
    "l1 = [i for i in l if i%2==0]\n",
    "l2 = [i for i in l if i%2!=0]\n",
    "\n",
    "l3 =[]\n",
    "l3.extend([sum(l1),sum(l2)])\n",
    "l3"
   ]
  },
  {
   "cell_type": "code",
   "execution_count": 165,
   "id": "89af5310",
   "metadata": {},
   "outputs": [
    {
     "data": {
      "text/plain": [
       "[2, 4, 6, 8, 4, 32, 56, 8]"
      ]
     },
     "execution_count": 165,
     "metadata": {},
     "output_type": "execute_result"
    }
   ],
   "source": [
    "l1"
   ]
  },
  {
   "cell_type": "code",
   "execution_count": 166,
   "id": "769bc57e",
   "metadata": {},
   "outputs": [
    {
     "data": {
      "text/plain": [
       "[1, 3, 5, 7, 9, 5, 3, 89]"
      ]
     },
     "execution_count": 166,
     "metadata": {},
     "output_type": "execute_result"
    }
   ],
   "source": [
    "l2"
   ]
  },
  {
   "cell_type": "code",
   "execution_count": 167,
   "id": "308329bb",
   "metadata": {},
   "outputs": [
    {
     "data": {
      "text/plain": [
       "['a', 'b', 'a', 's', 'a', 'g']"
      ]
     },
     "execution_count": 167,
     "metadata": {},
     "output_type": "execute_result"
    }
   ],
   "source": [
    "l = ['apple', 'bahjsdh', 'asd', 'sdd', 'asdf', 'ggh']\n",
    "l1 = [i[0] for i in l]\n",
    "l1"
   ]
  },
  {
   "cell_type": "code",
   "execution_count": 174,
   "id": "5a1523aa",
   "metadata": {},
   "outputs": [
    {
     "data": {
      "text/plain": [
       "[1, 2, 3, 4, 5, 6, 7, 8, 9]"
      ]
     },
     "execution_count": 174,
     "metadata": {},
     "output_type": "execute_result"
    }
   ],
   "source": [
    "l = [[1,2,3],[4,5,6],[7,8,9]]\n",
    "l1 = []\n",
    "for j in l:\n",
    "    l1.extend( [i for i in j] )\n",
    "l1"
   ]
  },
  {
   "cell_type": "code",
   "execution_count": 175,
   "id": "df515e2a",
   "metadata": {},
   "outputs": [
    {
     "data": {
      "text/plain": [
       "[1, 2, 3, 4, 5, 6, 7, 8, 9]"
      ]
     },
     "execution_count": 175,
     "metadata": {},
     "output_type": "execute_result"
    }
   ],
   "source": [
    "l = [[1,2,3],[4,5,6],[7,8,9]]\n",
    "l1 = [i for j in l for i in j]\n",
    "l1"
   ]
  },
  {
   "cell_type": "markdown",
   "id": "e5b42b06",
   "metadata": {},
   "source": [
    "#### Create a List of only the prime numbers from a given List"
   ]
  },
  {
   "cell_type": "code",
   "execution_count": 23,
   "id": "e287f27b",
   "metadata": {},
   "outputs": [
    {
     "data": {
      "text/plain": [
       "[1,\n",
       " 1,\n",
       " 2,\n",
       " 2,\n",
       " 3,\n",
       " 3,\n",
       " 4,\n",
       " 4,\n",
       " 5,\n",
       " 5,\n",
       " 6,\n",
       " 7,\n",
       " 8,\n",
       " 9,\n",
       " 10,\n",
       " 11,\n",
       " 12,\n",
       " 13,\n",
       " 14,\n",
       " 15,\n",
       " 16,\n",
       " 23,\n",
       " 66,\n",
       " 73]"
      ]
     },
     "execution_count": 23,
     "metadata": {},
     "output_type": "execute_result"
    }
   ],
   "source": [
    "l = [1,1,2,3,4,5,2,3,4,5,6,7,8,9,10,11,12,13,14,15,16,66,73,23]\n",
    "l.sort()\n",
    "l"
   ]
  },
  {
   "cell_type": "code",
   "execution_count": 38,
   "id": "9979cfd7",
   "metadata": {},
   "outputs": [
    {
     "data": {
      "text/plain": [
       "[1, 2, 3, 4, 5, 6, 7, 8, 9, 10, 11, 12, 13, 14, 15, 16, 23, 66, 73]"
      ]
     },
     "execution_count": 38,
     "metadata": {},
     "output_type": "execute_result"
    }
   ],
   "source": [
    "s = set(l)\n",
    "l = list(s)\n",
    "l1 =[1,2]\n",
    "l"
   ]
  },
  {
   "cell_type": "code",
   "execution_count": 39,
   "id": "5c9d3e1f",
   "metadata": {},
   "outputs": [
    {
     "data": {
      "text/plain": [
       "[1, 2, 3, 5, 7, 11, 13, 23, 73]"
      ]
     },
     "execution_count": 39,
     "metadata": {},
     "output_type": "execute_result"
    }
   ],
   "source": [
    "for i in l:\n",
    "    for j in range(i-1,1,-1):\n",
    "        if i%j == 0:\n",
    "            break\n",
    "        elif j == 2:\n",
    "            l1.append(i)\n",
    "l1"
   ]
  },
  {
   "cell_type": "code",
   "execution_count": 25,
   "id": "ac45e109",
   "metadata": {},
   "outputs": [
    {
     "data": {
      "text/plain": [
       "[]"
      ]
     },
     "execution_count": 25,
     "metadata": {},
     "output_type": "execute_result"
    }
   ],
   "source": [
    "list(range(1,1,-1))"
   ]
  },
  {
   "cell_type": "code",
   "execution_count": 29,
   "id": "68d4050b",
   "metadata": {},
   "outputs": [
    {
     "name": "stdout",
     "output_type": "stream",
     "text": [
      "1\n"
     ]
    }
   ],
   "source": [
    "if True:\n",
    "    print(1)"
   ]
  },
  {
   "cell_type": "code",
   "execution_count": 34,
   "id": "374be08c",
   "metadata": {},
   "outputs": [
    {
     "data": {
      "text/plain": [
       "[1, 2]"
      ]
     },
     "execution_count": 34,
     "metadata": {},
     "output_type": "execute_result"
    }
   ],
   "source": [
    "l1"
   ]
  },
  {
   "cell_type": "markdown",
   "id": "7312a9e0",
   "metadata": {},
   "source": [
    "### Find prime numbers till that number\n"
   ]
  },
  {
   "cell_type": "code",
   "execution_count": 43,
   "id": "6da9385d",
   "metadata": {},
   "outputs": [
    {
     "name": "stdout",
     "output_type": "stream",
     "text": [
      "Enter range: 100\n",
      "Non:  [4, 6, 8, 9, 10, 12, 14, 15, 16, 18, 20, 21, 22, 24, 25, 26, 27, 28, 30, 32, 33, 34, 35, 36, 38, 39, 40, 42, 44, 45, 46, 48, 49, 50, 51, 52, 54, 55, 56, 57, 58, 60, 62, 63, 64, 65, 66, 68, 69, 70, 72, 74, 75, 76, 77, 78, 80, 81, 82, 84, 85, 86, 87, 88, 90, 91, 92, 93, 94, 95, 96, 98, 99, 100] \n",
      "\n",
      "Prime:  [1, 2, 3, 5, 7, 11, 13, 17, 19, 23, 29, 31, 37, 41, 43, 47, 53, 59, 61, 67, 71, 73, 79, 83, 89, 97]\n"
     ]
    }
   ],
   "source": [
    "n = int(input(\"Enter range: \"))\n",
    "l_non = []\n",
    "l_prime = [1,2]\n",
    "for i in range(3,n+1):\n",
    "    for j in range(i-1,1,-1):\n",
    "        if i%j == 0:\n",
    "            l_non.append(i)\n",
    "            break\n",
    "        elif j==2:\n",
    "            l_prime.append(i)\n",
    "            \n",
    "print(\"Non: \",l_non,\"\\n\\nPrime: \",l_prime)"
   ]
  },
  {
   "cell_type": "code",
   "execution_count": 44,
   "id": "2d490c82",
   "metadata": {},
   "outputs": [],
   "source": [
    "l = [1,2,3,4,5,6,7,8,9,0,12,45,78,69]\n",
    "l.sort()\n",
    "l1 = [[i,j] for i in l for j in l if i is not j]"
   ]
  },
  {
   "cell_type": "code",
   "execution_count": 45,
   "id": "022fb2b0",
   "metadata": {},
   "outputs": [
    {
     "data": {
      "text/plain": [
       "[[0, 1],\n",
       " [0, 2],\n",
       " [0, 3],\n",
       " [0, 4],\n",
       " [0, 5],\n",
       " [0, 6],\n",
       " [0, 7],\n",
       " [0, 8],\n",
       " [0, 9],\n",
       " [0, 12],\n",
       " [0, 45],\n",
       " [0, 69],\n",
       " [0, 78],\n",
       " [1, 0],\n",
       " [1, 2],\n",
       " [1, 3],\n",
       " [1, 4],\n",
       " [1, 5],\n",
       " [1, 6],\n",
       " [1, 7],\n",
       " [1, 8],\n",
       " [1, 9],\n",
       " [1, 12],\n",
       " [1, 45],\n",
       " [1, 69],\n",
       " [1, 78],\n",
       " [2, 0],\n",
       " [2, 1],\n",
       " [2, 3],\n",
       " [2, 4],\n",
       " [2, 5],\n",
       " [2, 6],\n",
       " [2, 7],\n",
       " [2, 8],\n",
       " [2, 9],\n",
       " [2, 12],\n",
       " [2, 45],\n",
       " [2, 69],\n",
       " [2, 78],\n",
       " [3, 0],\n",
       " [3, 1],\n",
       " [3, 2],\n",
       " [3, 4],\n",
       " [3, 5],\n",
       " [3, 6],\n",
       " [3, 7],\n",
       " [3, 8],\n",
       " [3, 9],\n",
       " [3, 12],\n",
       " [3, 45],\n",
       " [3, 69],\n",
       " [3, 78],\n",
       " [4, 0],\n",
       " [4, 1],\n",
       " [4, 2],\n",
       " [4, 3],\n",
       " [4, 5],\n",
       " [4, 6],\n",
       " [4, 7],\n",
       " [4, 8],\n",
       " [4, 9],\n",
       " [4, 12],\n",
       " [4, 45],\n",
       " [4, 69],\n",
       " [4, 78],\n",
       " [5, 0],\n",
       " [5, 1],\n",
       " [5, 2],\n",
       " [5, 3],\n",
       " [5, 4],\n",
       " [5, 6],\n",
       " [5, 7],\n",
       " [5, 8],\n",
       " [5, 9],\n",
       " [5, 12],\n",
       " [5, 45],\n",
       " [5, 69],\n",
       " [5, 78],\n",
       " [6, 0],\n",
       " [6, 1],\n",
       " [6, 2],\n",
       " [6, 3],\n",
       " [6, 4],\n",
       " [6, 5],\n",
       " [6, 7],\n",
       " [6, 8],\n",
       " [6, 9],\n",
       " [6, 12],\n",
       " [6, 45],\n",
       " [6, 69],\n",
       " [6, 78],\n",
       " [7, 0],\n",
       " [7, 1],\n",
       " [7, 2],\n",
       " [7, 3],\n",
       " [7, 4],\n",
       " [7, 5],\n",
       " [7, 6],\n",
       " [7, 8],\n",
       " [7, 9],\n",
       " [7, 12],\n",
       " [7, 45],\n",
       " [7, 69],\n",
       " [7, 78],\n",
       " [8, 0],\n",
       " [8, 1],\n",
       " [8, 2],\n",
       " [8, 3],\n",
       " [8, 4],\n",
       " [8, 5],\n",
       " [8, 6],\n",
       " [8, 7],\n",
       " [8, 9],\n",
       " [8, 12],\n",
       " [8, 45],\n",
       " [8, 69],\n",
       " [8, 78],\n",
       " [9, 0],\n",
       " [9, 1],\n",
       " [9, 2],\n",
       " [9, 3],\n",
       " [9, 4],\n",
       " [9, 5],\n",
       " [9, 6],\n",
       " [9, 7],\n",
       " [9, 8],\n",
       " [9, 12],\n",
       " [9, 45],\n",
       " [9, 69],\n",
       " [9, 78],\n",
       " [12, 0],\n",
       " [12, 1],\n",
       " [12, 2],\n",
       " [12, 3],\n",
       " [12, 4],\n",
       " [12, 5],\n",
       " [12, 6],\n",
       " [12, 7],\n",
       " [12, 8],\n",
       " [12, 9],\n",
       " [12, 45],\n",
       " [12, 69],\n",
       " [12, 78],\n",
       " [45, 0],\n",
       " [45, 1],\n",
       " [45, 2],\n",
       " [45, 3],\n",
       " [45, 4],\n",
       " [45, 5],\n",
       " [45, 6],\n",
       " [45, 7],\n",
       " [45, 8],\n",
       " [45, 9],\n",
       " [45, 12],\n",
       " [45, 69],\n",
       " [45, 78],\n",
       " [69, 0],\n",
       " [69, 1],\n",
       " [69, 2],\n",
       " [69, 3],\n",
       " [69, 4],\n",
       " [69, 5],\n",
       " [69, 6],\n",
       " [69, 7],\n",
       " [69, 8],\n",
       " [69, 9],\n",
       " [69, 12],\n",
       " [69, 45],\n",
       " [69, 78],\n",
       " [78, 0],\n",
       " [78, 1],\n",
       " [78, 2],\n",
       " [78, 3],\n",
       " [78, 4],\n",
       " [78, 5],\n",
       " [78, 6],\n",
       " [78, 7],\n",
       " [78, 8],\n",
       " [78, 9],\n",
       " [78, 12],\n",
       " [78, 45],\n",
       " [78, 69]]"
      ]
     },
     "execution_count": 45,
     "metadata": {},
     "output_type": "execute_result"
    }
   ],
   "source": [
    "l1"
   ]
  },
  {
   "cell_type": "code",
   "execution_count": null,
   "id": "d10718e6",
   "metadata": {},
   "outputs": [],
   "source": []
  }
 ],
 "metadata": {
  "kernelspec": {
   "display_name": "Python 3 (ipykernel)",
   "language": "python",
   "name": "python3"
  },
  "language_info": {
   "codemirror_mode": {
    "name": "ipython",
    "version": 3
   },
   "file_extension": ".py",
   "mimetype": "text/x-python",
   "name": "python",
   "nbconvert_exporter": "python",
   "pygments_lexer": "ipython3",
   "version": "3.9.13"
  }
 },
 "nbformat": 4,
 "nbformat_minor": 5
}
